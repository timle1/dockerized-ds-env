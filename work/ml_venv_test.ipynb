{
 "cells": [
  {
   "cell_type": "code",
   "execution_count": 3,
   "id": "9959967d-41c6-494b-8baa-31ccbb0730bb",
   "metadata": {},
   "outputs": [
    {
     "name": "stdout",
     "output_type": "stream",
     "text": [
      "Collecting tensorflow-gpu==1.15.0\n",
      "  Downloading tensorflow_gpu-1.15.0-cp37-cp37m-manylinux2010_x86_64.whl (411.5 MB)\n",
      "     |████████████████████████████████| 411.5 MB 9.5 kB/s             \n",
      "\u001b[?25hRequirement already satisfied: tensorflow==1.15.0 in /opt/conda/envs/ml/lib/python3.7/site-packages (1.15.0)\n",
      "Collecting stable-baselines\n",
      "  Downloading stable_baselines-2.10.2-py3-none-any.whl (240 kB)\n",
      "     |████████████████████████████████| 240 kB 11.1 MB/s            \n",
      "\u001b[?25hCollecting gym-anytrading\n",
      "  Downloading gym_anytrading-1.2.0-py3-none-any.whl (171 kB)\n",
      "     |████████████████████████████████| 171 kB 13.4 MB/s            \n",
      "\u001b[?25hCollecting gym\n",
      "  Downloading gym-0.21.0.tar.gz (1.5 MB)\n",
      "     |████████████████████████████████| 1.5 MB 12.4 MB/s            \n",
      "\u001b[?25h  Preparing metadata (setup.py) ... \u001b[?25ldone\n",
      "\u001b[?25hRequirement already satisfied: opt-einsum>=2.3.2 in /opt/conda/envs/ml/lib/python3.7/site-packages (from tensorflow-gpu==1.15.0) (3.3.0)\n",
      "Requirement already satisfied: protobuf>=3.6.1 in /opt/conda/envs/ml/lib/python3.7/site-packages (from tensorflow-gpu==1.15.0) (3.18.1)\n",
      "Requirement already satisfied: astor>=0.6.0 in /opt/conda/envs/ml/lib/python3.7/site-packages (from tensorflow-gpu==1.15.0) (0.8.1)\n",
      "Requirement already satisfied: six>=1.10.0 in /home/jovyan/.local/lib/python3.7/site-packages (from tensorflow-gpu==1.15.0) (1.16.0)\n",
      "Requirement already satisfied: tensorboard<1.16.0,>=1.15.0 in /opt/conda/envs/ml/lib/python3.7/site-packages (from tensorflow-gpu==1.15.0) (1.15.0)\n",
      "Requirement already satisfied: wrapt>=1.11.1 in /opt/conda/envs/ml/lib/python3.7/site-packages (from tensorflow-gpu==1.15.0) (1.13.2)\n",
      "Requirement already satisfied: tensorflow-estimator==1.15.1 in /opt/conda/envs/ml/lib/python3.7/site-packages (from tensorflow-gpu==1.15.0) (1.15.1)\n",
      "Requirement already satisfied: gast==0.2.2 in /opt/conda/envs/ml/lib/python3.7/site-packages (from tensorflow-gpu==1.15.0) (0.2.2)\n",
      "Requirement already satisfied: termcolor>=1.1.0 in /opt/conda/envs/ml/lib/python3.7/site-packages (from tensorflow-gpu==1.15.0) (1.1.0)\n",
      "Requirement already satisfied: keras-preprocessing>=1.0.5 in /opt/conda/envs/ml/lib/python3.7/site-packages (from tensorflow-gpu==1.15.0) (1.1.2)\n",
      "Requirement already satisfied: absl-py>=0.7.0 in /opt/conda/envs/ml/lib/python3.7/site-packages (from tensorflow-gpu==1.15.0) (0.14.1)\n",
      "Requirement already satisfied: grpcio>=1.8.6 in /opt/conda/envs/ml/lib/python3.7/site-packages (from tensorflow-gpu==1.15.0) (1.41.0)\n",
      "Requirement already satisfied: wheel>=0.26 in /opt/conda/envs/ml/lib/python3.7/site-packages (from tensorflow-gpu==1.15.0) (0.37.0)\n",
      "Requirement already satisfied: numpy<2.0,>=1.16.0 in /opt/conda/envs/ml/lib/python3.7/site-packages (from tensorflow-gpu==1.15.0) (1.21.2)\n",
      "Requirement already satisfied: keras-applications>=1.0.8 in /opt/conda/envs/ml/lib/python3.7/site-packages (from tensorflow-gpu==1.15.0) (1.0.8)\n",
      "Requirement already satisfied: google-pasta>=0.1.6 in /opt/conda/envs/ml/lib/python3.7/site-packages (from tensorflow-gpu==1.15.0) (0.2.0)\n",
      "Collecting scipy\n",
      "  Downloading scipy-1.7.1-cp37-cp37m-manylinux_2_5_x86_64.manylinux1_x86_64.whl (28.5 MB)\n",
      "     |████████████████████████████████| 28.5 MB 13.1 MB/s            \n",
      "\u001b[?25hCollecting joblib\n",
      "  Downloading joblib-1.1.0-py2.py3-none-any.whl (306 kB)\n",
      "     |████████████████████████████████| 306 kB 9.8 MB/s            \n",
      "\u001b[?25hCollecting opencv-python\n",
      "  Downloading opencv_python-4.5.3.56-cp37-cp37m-manylinux2014_x86_64.whl (49.9 MB)\n",
      "     |████████████████████████████████| 49.9 MB 6.9 MB/s             \n",
      "\u001b[?25hCollecting matplotlib\n",
      "  Downloading matplotlib-3.4.3-cp37-cp37m-manylinux1_x86_64.whl (10.3 MB)\n",
      "     |████████████████████████████████| 10.3 MB 15.7 MB/s            \n",
      "\u001b[?25hCollecting pandas\n",
      "  Downloading pandas-1.3.3-cp37-cp37m-manylinux_2_17_x86_64.manylinux2014_x86_64.whl (11.3 MB)\n",
      "     |████████████████████████████████| 11.3 MB 1.6 MB/s             \n",
      "\u001b[?25hCollecting cloudpickle>=0.5.5\n",
      "  Downloading cloudpickle-2.0.0-py3-none-any.whl (25 kB)\n",
      "Requirement already satisfied: importlib_metadata>=4.8.1 in /home/jovyan/.local/lib/python3.7/site-packages (from gym) (4.8.1)\n",
      "Collecting ale-py~=0.7.1\n",
      "  Downloading ale_py-0.7.2-cp37-cp37m-manylinux_2_17_x86_64.manylinux2014_x86_64.whl (1.6 MB)\n",
      "     |████████████████████████████████| 1.6 MB 13.2 MB/s            \n",
      "\u001b[?25hCollecting pyglet>=1.4.0\n",
      "  Downloading pyglet-1.5.21-py3-none-any.whl (1.1 MB)\n",
      "     |████████████████████████████████| 1.1 MB 12.8 MB/s            \n",
      "\u001b[?25hRequirement already satisfied: typing-extensions>=3.6.4 in /home/jovyan/.local/lib/python3.7/site-packages (from importlib_metadata>=4.8.1->gym) (3.10.0.2)\n",
      "Requirement already satisfied: zipp>=0.5 in /home/jovyan/.local/lib/python3.7/site-packages (from importlib_metadata>=4.8.1->gym) (3.6.0)\n",
      "Requirement already satisfied: h5py in /opt/conda/envs/ml/lib/python3.7/site-packages (from keras-applications>=1.0.8->tensorflow-gpu==1.15.0) (3.4.0)\n",
      "Collecting kiwisolver>=1.0.1\n",
      "  Downloading kiwisolver-1.3.2-cp37-cp37m-manylinux_2_5_x86_64.manylinux1_x86_64.whl (1.1 MB)\n",
      "     |████████████████████████████████| 1.1 MB 13.0 MB/s            \n",
      "\u001b[?25hCollecting pyparsing>=2.2.1\n",
      "  Downloading pyparsing-2.4.7-py2.py3-none-any.whl (67 kB)\n",
      "     |████████████████████████████████| 67 kB 2.9 MB/s             \n",
      "\u001b[?25hRequirement already satisfied: python-dateutil>=2.7 in /home/jovyan/.local/lib/python3.7/site-packages (from matplotlib->stable-baselines) (2.8.2)\n",
      "Collecting cycler>=0.10\n",
      "  Downloading cycler-0.10.0-py2.py3-none-any.whl (6.5 kB)\n",
      "Collecting pillow>=6.2.0\n",
      "  Downloading Pillow-8.3.2-cp37-cp37m-manylinux_2_17_x86_64.manylinux2014_x86_64.whl (3.0 MB)\n",
      "     |████████████████████████████████| 3.0 MB 13.0 MB/s            \n",
      "\u001b[?25hCollecting pytz>=2017.3\n",
      "  Downloading pytz-2021.3-py2.py3-none-any.whl (503 kB)\n",
      "     |████████████████████████████████| 503 kB 11.6 MB/s            \n",
      "\u001b[?25hRequirement already satisfied: werkzeug>=0.11.15 in /opt/conda/envs/ml/lib/python3.7/site-packages (from tensorboard<1.16.0,>=1.15.0->tensorflow-gpu==1.15.0) (2.0.2)\n",
      "Requirement already satisfied: markdown>=2.6.8 in /opt/conda/envs/ml/lib/python3.7/site-packages (from tensorboard<1.16.0,>=1.15.0->tensorflow-gpu==1.15.0) (3.3.4)\n",
      "Requirement already satisfied: setuptools>=41.0.0 in /opt/conda/envs/ml/lib/python3.7/site-packages (from tensorboard<1.16.0,>=1.15.0->tensorflow-gpu==1.15.0) (58.2.0)\n",
      "Collecting importlib-resources\n",
      "  Downloading importlib_resources-5.2.2-py3-none-any.whl (27 kB)\n",
      "Requirement already satisfied: cached-property in /opt/conda/envs/ml/lib/python3.7/site-packages (from h5py->keras-applications>=1.0.8->tensorflow-gpu==1.15.0) (1.5.2)\n",
      "Building wheels for collected packages: gym\n",
      "  Building wheel for gym (setup.py) ... \u001b[?25ldone\n",
      "\u001b[?25h  Created wheel for gym: filename=gym-0.21.0-py3-none-any.whl size=1616822 sha256=0b52c126583bfd3f57259d667da3aa7277acb711919cd8f9a7c79e65e89e3225\n",
      "  Stored in directory: /home/jovyan/.cache/pip/wheels/76/ee/9c/36bfe3e079df99acf5ae57f4e3464ff2771b34447d6d2f2148\n",
      "Successfully built gym\n",
      "Installing collected packages: importlib-resources, cloudpickle, pytz, pyparsing, pyglet, pillow, kiwisolver, gym, cycler, ale-py, scipy, pandas, opencv-python, matplotlib, joblib, tensorflow-gpu, stable-baselines, gym-anytrading\n",
      "Successfully installed ale-py-0.7.2 cloudpickle-2.0.0 cycler-0.10.0 gym-0.21.0 gym-anytrading-1.2.0 importlib-resources-5.2.2 joblib-1.1.0 kiwisolver-1.3.2 matplotlib-3.4.3 opencv-python-4.5.3.56 pandas-1.3.3 pillow-8.3.2 pyglet-1.5.21 pyparsing-2.4.7 pytz-2021.3 scipy-1.7.1 stable-baselines-2.10.2 tensorflow-gpu-1.15.0\n"
     ]
    }
   ],
   "source": [
    "!pip install tensorflow-gpu==1.15.0 tensorflow==1.15.0 stable-baselines gym-anytrading gym"
   ]
  },
  {
   "cell_type": "code",
   "execution_count": 4,
   "id": "352c836b-b195-4a42-8cce-d82b081af96a",
   "metadata": {},
   "outputs": [
    {
     "name": "stderr",
     "output_type": "stream",
     "text": [
      "/opt/conda/envs/ml/lib/python3.7/site-packages/ale_py/roms/utils.py:90: DeprecationWarning: SelectableGroups dict interface is deprecated. Use select.\n",
      "  for external in metadata.entry_points().get(self.group, []):\n"
     ]
    },
    {
     "name": "stdout",
     "output_type": "stream",
     "text": [
      "WARNING:tensorflow:\n",
      "The TensorFlow contrib module will not be included in TensorFlow 2.0.\n",
      "For more information, please see:\n",
      "  * https://github.com/tensorflow/community/blob/master/rfcs/20180907-contrib-sunset.md\n",
      "  * https://github.com/tensorflow/addons\n",
      "  * https://github.com/tensorflow/io (for I/O related ops)\n",
      "If you depend on functionality not listed there, please file an issue.\n",
      "\n"
     ]
    },
    {
     "name": "stderr",
     "output_type": "stream",
     "text": [
      "/opt/conda/envs/ml/lib/python3.7/site-packages/stable_baselines/__init__.py:33: UserWarning: stable-baselines is in maintenance mode, please use [Stable-Baselines3 (SB3)](https://github.com/DLR-RM/stable-baselines3) for an up-to-date version. You can find a [migration guide](https://stable-baselines3.readthedocs.io/en/master/guide/migration.html) in SB3 documentation.\n",
      "  \"stable-baselines is in maintenance mode, please use [Stable-Baselines3 (SB3)](https://github.com/DLR-RM/stable-baselines3) for an up-to-date version. You can find a [migration guide](https://stable-baselines3.readthedocs.io/en/master/guide/migration.html) in SB3 documentation.\"\n"
     ]
    }
   ],
   "source": [
    "# Gym stuff\n",
    "import gym\n",
    "import gym_anytrading\n",
    "\n",
    "# Stable baselines - rl stuff\n",
    "from stable_baselines.common.vec_env import DummyVecEnv\n",
    "from stable_baselines import A2C\n",
    "\n",
    "# Processing libraries\n",
    "import numpy as np\n",
    "import pandas as pd\n",
    "from matplotlib import pyplot as plt"
   ]
  }
 ],
 "metadata": {
  "kernelspec": {
   "display_name": "ml",
   "language": "python",
   "name": "ml"
  },
  "language_info": {
   "codemirror_mode": {
    "name": "ipython",
    "version": 3
   },
   "file_extension": ".py",
   "mimetype": "text/x-python",
   "name": "python",
   "nbconvert_exporter": "python",
   "pygments_lexer": "ipython3",
   "version": "3.7.10"
  }
 },
 "nbformat": 4,
 "nbformat_minor": 5
}
